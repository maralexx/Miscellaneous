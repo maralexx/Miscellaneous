{
 "cells": [
  {
   "cell_type": "code",
   "execution_count": null,
   "metadata": {
    "collapsed": true
   },
   "outputs": [],
   "source": [
    "from sys import stdout\n",
    "\n",
    "l, r = 1, 1000000\n",
    "while l!=r:\n",
    "    mid = (l + r + 1) // 2\n",
    "    print(\"%d\\n\" % mid)\n",
    "    stdout.flush()\n",
    "    \n",
    "    response = input()\n",
    "    if response=='<':\n",
    "        r = mid - 1\n",
    "    else:\n",
    "        l = mid\n",
    "    \n",
    "print(\"! %d\\n\" % l)\n",
    "stdout.flush()"
   ]
  }
 ],
 "metadata": {
  "kernelspec": {
   "display_name": "Python 3",
   "language": "python",
   "name": "python3"
  },
  "language_info": {
   "codemirror_mode": {
    "name": "ipython",
    "version": 3
   },
   "file_extension": ".py",
   "mimetype": "text/x-python",
   "name": "python",
   "nbconvert_exporter": "python",
   "pygments_lexer": "ipython3",
   "version": "3.6.1"
  }
 },
 "nbformat": 4,
 "nbformat_minor": 2
}
